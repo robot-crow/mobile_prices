{
 "cells": [
  {
   "cell_type": "code",
   "execution_count": 1,
   "id": "80f349bc-724e-4353-8a19-6b5d5c75ac1b",
   "metadata": {},
   "outputs": [],
   "source": [
    "# here, I am going to doctor the data and remove a class\n",
    "# I will then train a model, and then add in the new class...."
   ]
  },
  {
   "cell_type": "code",
   "execution_count": 2,
   "id": "0b76dc5d-e45a-4673-89b0-cfb57f36503d",
   "metadata": {},
   "outputs": [],
   "source": [
    "import numpy as np\n",
    "import pandas as pd\n",
    "\n",
    "import os\n",
    "\n",
    "from sklearn.preprocessing import OneHotEncoder\n",
    "from sklearn.preprocessing import StandardScaler\n",
    "\n",
    "from sklearn.model_selection import train_test_split\n",
    "\n",
    "import keras\n",
    "from keras.models import Sequential\n",
    "from keras.layers import Dense\n",
    "\n",
    "from sklearn.metrics import accuracy_score\n",
    "import matplotlib.pyplot as plt\n",
    "\n",
    "from IPython.core.interactiveshell import InteractiveShell\n",
    "InteractiveShell.ast_node_interactivity = 'all'"
   ]
  },
  {
   "cell_type": "code",
   "execution_count": 3,
   "id": "353bea45-f437-48b0-899e-0f4ee5a5c999",
   "metadata": {},
   "outputs": [],
   "source": [
    "cwd = os.getcwd()\n",
    "data_csv = os.path.join(cwd, 'data/data.csv')"
   ]
  },
  {
   "cell_type": "code",
   "execution_count": 4,
   "id": "0bd44d7b-f579-428a-8a6a-c1a7c8fd5200",
   "metadata": {},
   "outputs": [],
   "source": [
    "df = pd.read_csv(data_csv)"
   ]
  },
  {
   "cell_type": "code",
   "execution_count": 5,
   "id": "e8146e17-7beb-4baa-aa34-e004f9faa762",
   "metadata": {},
   "outputs": [],
   "source": [
    "pd.set_option('display.max_columns',15)"
   ]
  },
  {
   "cell_type": "code",
   "execution_count": 7,
   "id": "94c80317-0cf8-4b77-bc47-9e3c6d45ba05",
   "metadata": {},
   "outputs": [],
   "source": [
    "df_maxprice = df[df['price_range'] == 3].copy()\n",
    "df_main = df[~df['price_range'] == 3].copy()"
   ]
  },
  {
   "cell_type": "code",
   "execution_count": null,
   "id": "2359685e-2b4b-43c3-a0ee-957b8c810cd7",
   "metadata": {},
   "outputs": [],
   "source": [
    "def get_data(df: pd.DataFrame) -> tuple[np.ndarray, np.ndarray]:\n",
    "    # as numpy arrays\n",
    "    # X = everything minus target\n",
    "    # y = target\n",
    "\n",
    "    \n",
    "    X = df.iloc[:,:20].values.copy()\n",
    "    y = df.iloc[:,20:21].values.copy()\n",
    "\n",
    "    # scale & encode\n",
    "    sc = StandardScaler()\n",
    "    ohe = OneHotEncoder()\n",
    "    \n",
    "    X = sc.fit_transform(X)\n",
    "    y = ohe.fit_transform(y).toarray()\n",
    "\n",
    "    # one time arbitrary split. We just want to get going here, not productionise\n",
    "    X_train, X_test, y_train, y_test = train_test_split(X,y,test_size = 0.2)\n",
    "    \n",
    "    return X_train, X_test, y_train, y_test\n",
    "    "
   ]
  },
  {
   "cell_type": "code",
   "execution_count": null,
   "id": "7cd71568-fe70-460f-b76a-48045c3855f5",
   "metadata": {},
   "outputs": [],
   "source": []
  },
  {
   "cell_type": "code",
   "execution_count": null,
   "id": "e6c83731-b0de-4f5d-aa47-a6316c920884",
   "metadata": {},
   "outputs": [],
   "source": []
  },
  {
   "cell_type": "code",
   "execution_count": null,
   "id": "3fb70e54-660b-4b40-9d43-ead6ebb229bc",
   "metadata": {},
   "outputs": [],
   "source": []
  },
  {
   "cell_type": "code",
   "execution_count": null,
   "id": "e8f8db24-1887-4a2b-b603-c408846f2713",
   "metadata": {},
   "outputs": [],
   "source": []
  }
 ],
 "metadata": {
  "kernelspec": {
   "display_name": "Python 3 (ipykernel)",
   "language": "python",
   "name": "python3"
  },
  "language_info": {
   "codemirror_mode": {
    "name": "ipython",
    "version": 3
   },
   "file_extension": ".py",
   "mimetype": "text/x-python",
   "name": "python",
   "nbconvert_exporter": "python",
   "pygments_lexer": "ipython3",
   "version": "3.11.1"
  }
 },
 "nbformat": 4,
 "nbformat_minor": 5
}
