{
 "cells": [
  {
   "cell_type": "code",
   "execution_count": 1,
   "id": "a45c2db7-d95b-48a0-86ef-8d8db1cea62e",
   "metadata": {},
   "outputs": [],
   "source": [
    "# I am for academic purposes \n",
    "# to show batch training and novel category insertion into a keras model"
   ]
  },
  {
   "cell_type": "code",
   "execution_count": 2,
   "id": "2d269db4-b136-42ce-8eba-adfdca98b49a",
   "metadata": {},
   "outputs": [],
   "source": [
    "import pandas as pd\n",
    "import os\n"
   ]
  },
  {
   "cell_type": "code",
   "execution_count": 3,
   "id": "78ecb6c7-d7ae-4669-8fb8-9256dbcf9b14",
   "metadata": {},
   "outputs": [],
   "source": [
    "cwd = os.getcwd()\n",
    "input_file = os.path.join(cwd, 'data\\\\data_class012.csv')\n",
    "output_dir = os.path.join(cwd, 'data\\\\slice_012')"
   ]
  },
  {
   "cell_type": "code",
   "execution_count": 4,
   "id": "d24ee0dd-0348-4159-b4e7-4b47f485f9f4",
   "metadata": {},
   "outputs": [],
   "source": [
    "def split_data(input_file, output_dir, rows_per_file=100):\n",
    "    # Create the output directory if it doesn't exist\n",
    "\n",
    "    os.makedirs(output_dir, exist_ok=True)\n",
    "    \n",
    "    # Read the input CSV file\n",
    "    df = pd.read_csv(input_file)\n",
    "    \n",
    "    # Split the DataFrame into chunks of rows_per_file\n",
    "    chunks = [df[i:i+rows_per_file] for i in range(0, len(df), rows_per_file)]\n",
    "    \n",
    "    # Save each chunk as a separate CSV file\n",
    "    for i, chunk in enumerate(chunks):\n",
    "        output_file = os.path.join(output_dir, f'output_chunk_{i+1}.csv')\n",
    "        chunk.to_csv(output_file, index=False)\n",
    "        print(f'Saved {output_file}')"
   ]
  },
  {
   "cell_type": "code",
   "execution_count": 5,
   "id": "d07db869-2cd2-4f0c-a972-796e67559b32",
   "metadata": {},
   "outputs": [
    {
     "name": "stdout",
     "output_type": "stream",
     "text": [
      "Saved C:\\Users\\Mickey Nine\\PythonProjects\\repo\\py_projects\\mobile_prices\\data\\slice_012\\output_chunk_1.csv\n",
      "Saved C:\\Users\\Mickey Nine\\PythonProjects\\repo\\py_projects\\mobile_prices\\data\\slice_012\\output_chunk_2.csv\n",
      "Saved C:\\Users\\Mickey Nine\\PythonProjects\\repo\\py_projects\\mobile_prices\\data\\slice_012\\output_chunk_3.csv\n",
      "Saved C:\\Users\\Mickey Nine\\PythonProjects\\repo\\py_projects\\mobile_prices\\data\\slice_012\\output_chunk_4.csv\n",
      "Saved C:\\Users\\Mickey Nine\\PythonProjects\\repo\\py_projects\\mobile_prices\\data\\slice_012\\output_chunk_5.csv\n",
      "Saved C:\\Users\\Mickey Nine\\PythonProjects\\repo\\py_projects\\mobile_prices\\data\\slice_012\\output_chunk_6.csv\n",
      "Saved C:\\Users\\Mickey Nine\\PythonProjects\\repo\\py_projects\\mobile_prices\\data\\slice_012\\output_chunk_7.csv\n",
      "Saved C:\\Users\\Mickey Nine\\PythonProjects\\repo\\py_projects\\mobile_prices\\data\\slice_012\\output_chunk_8.csv\n",
      "Saved C:\\Users\\Mickey Nine\\PythonProjects\\repo\\py_projects\\mobile_prices\\data\\slice_012\\output_chunk_9.csv\n",
      "Saved C:\\Users\\Mickey Nine\\PythonProjects\\repo\\py_projects\\mobile_prices\\data\\slice_012\\output_chunk_10.csv\n",
      "Saved C:\\Users\\Mickey Nine\\PythonProjects\\repo\\py_projects\\mobile_prices\\data\\slice_012\\output_chunk_11.csv\n",
      "Saved C:\\Users\\Mickey Nine\\PythonProjects\\repo\\py_projects\\mobile_prices\\data\\slice_012\\output_chunk_12.csv\n",
      "Saved C:\\Users\\Mickey Nine\\PythonProjects\\repo\\py_projects\\mobile_prices\\data\\slice_012\\output_chunk_13.csv\n",
      "Saved C:\\Users\\Mickey Nine\\PythonProjects\\repo\\py_projects\\mobile_prices\\data\\slice_012\\output_chunk_14.csv\n",
      "Saved C:\\Users\\Mickey Nine\\PythonProjects\\repo\\py_projects\\mobile_prices\\data\\slice_012\\output_chunk_15.csv\n"
     ]
    }
   ],
   "source": [
    "# Slice class data with 0, 1, 2 in price_range\n",
    "split_data(input_file, output_dir)"
   ]
  },
  {
   "cell_type": "code",
   "execution_count": 6,
   "id": "6afe9285-ce6a-4fa7-bc5b-9e0c92cfd16e",
   "metadata": {},
   "outputs": [
    {
     "name": "stdout",
     "output_type": "stream",
     "text": [
      "Saved C:\\Users\\Mickey Nine\\PythonProjects\\repo\\py_projects\\mobile_prices\\data\\slice_3\\output_chunk_1.csv\n",
      "Saved C:\\Users\\Mickey Nine\\PythonProjects\\repo\\py_projects\\mobile_prices\\data\\slice_3\\output_chunk_2.csv\n",
      "Saved C:\\Users\\Mickey Nine\\PythonProjects\\repo\\py_projects\\mobile_prices\\data\\slice_3\\output_chunk_3.csv\n",
      "Saved C:\\Users\\Mickey Nine\\PythonProjects\\repo\\py_projects\\mobile_prices\\data\\slice_3\\output_chunk_4.csv\n",
      "Saved C:\\Users\\Mickey Nine\\PythonProjects\\repo\\py_projects\\mobile_prices\\data\\slice_3\\output_chunk_5.csv\n"
     ]
    }
   ],
   "source": [
    "# Slice class data with 3 in price_range\n",
    "input_file = os.path.join(cwd, 'data\\\\data_class3.csv')\n",
    "output_dir = os.path.join(cwd, 'data\\\\slice_3')\n",
    "split_data(input_file, output_dir)"
   ]
  },
  {
   "cell_type": "code",
   "execution_count": null,
   "id": "3f5a2f12-4f7d-4436-83a5-f5b6367e98bb",
   "metadata": {},
   "outputs": [],
   "source": []
  }
 ],
 "metadata": {
  "kernelspec": {
   "display_name": "Python 3 (ipykernel)",
   "language": "python",
   "name": "python3"
  },
  "language_info": {
   "codemirror_mode": {
    "name": "ipython",
    "version": 3
   },
   "file_extension": ".py",
   "mimetype": "text/x-python",
   "name": "python",
   "nbconvert_exporter": "python",
   "pygments_lexer": "ipython3",
   "version": "3.11.1"
  }
 },
 "nbformat": 4,
 "nbformat_minor": 5
}
